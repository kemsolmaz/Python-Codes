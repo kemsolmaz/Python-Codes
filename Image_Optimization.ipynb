{
 "cells": [
  {
   "cell_type": "code",
   "execution_count": 6,
   "metadata": {},
   "outputs": [
    {
     "name": "stdout",
     "output_type": "stream",
     "text": [
      "Requirement already satisfied: pillow in c:\\users\\asus\\anaconda3\\lib\\site-packages (6.2.0)\n",
      "Note: you may need to restart the kernel to use updated packages.\n"
     ]
    }
   ],
   "source": [
    "pip install pillow"
   ]
  },
  {
   "cell_type": "code",
   "execution_count": 7,
   "metadata": {},
   "outputs": [
    {
     "name": "stdout",
     "output_type": "stream",
     "text": [
      "Collecting pillow\n",
      "  Downloading https://files.pythonhosted.org/packages/3e/59/4d519b49a5dfae6be2f445ac59802db54b4356cb20a4c3d1599c03d82f59/Pillow-8.4.0-cp37-cp37m-win_amd64.whl (3.2MB)\n",
      "Installing collected packages: pillow\n",
      "  Found existing installation: Pillow 6.2.0\n",
      "    Uninstalling Pillow-6.2.0:\n",
      "      Successfully uninstalled Pillow-6.2.0\n",
      "Note: you may need to restart the kernel to use updated packages.\n"
     ]
    },
    {
     "name": "stderr",
     "output_type": "stream",
     "text": [
      "ERROR: Could not install packages due to an EnvironmentError: [WinError 5] Erişim engellendi: 'c:\\\\users\\\\asus\\\\anaconda3\\\\lib\\\\site-packages\\\\~il\\\\_imaging.cp37-win_amd64.pyd'\n",
      "Consider using the `--user` option or check the permissions.\n",
      "\n"
     ]
    }
   ],
   "source": [
    "pip install --upgrade pillow"
   ]
  },
  {
   "cell_type": "code",
   "execution_count": 1,
   "metadata": {},
   "outputs": [],
   "source": [
    "from PIL import Image\n",
    "import os"
   ]
  },
  {
   "cell_type": "code",
   "execution_count": 10,
   "metadata": {},
   "outputs": [],
   "source": [
    "path = r'C:\\Users\\asus\\Meridian_Pics_Deneme'"
   ]
  },
  {
   "cell_type": "code",
   "execution_count": 11,
   "metadata": {},
   "outputs": [
    {
     "name": "stdout",
     "output_type": "stream",
     "text": [
      "C:\\Users\\asus\n"
     ]
    }
   ],
   "source": [
    "print(os.getcwd())"
   ]
  },
  {
   "cell_type": "code",
   "execution_count": 12,
   "metadata": {},
   "outputs": [],
   "source": [
    "os.chdir(path)"
   ]
  },
  {
   "cell_type": "code",
   "execution_count": 13,
   "metadata": {},
   "outputs": [
    {
     "data": {
      "text/plain": [
       "'C:\\\\Users\\\\asus\\\\Meridian_Pics_Deneme'"
      ]
     },
     "execution_count": 13,
     "metadata": {},
     "output_type": "execute_result"
    }
   ],
   "source": [
    "os.getcwd()"
   ]
  },
  {
   "cell_type": "code",
   "execution_count": 14,
   "metadata": {},
   "outputs": [
    {
     "name": "stdout",
     "output_type": "stream",
     "text": [
      "['104Black_1.jpg', '104Black_2.jpg', '104Black_3.jpg', '104Black_4.jpg', '104Cream_1.jpg', '104Cream_2.jpg', '104Cream_3.jpg', '104Cream_4.jpg', '104Grey_1.jpg', '104Grey_2.jpg', '104Grey_3.jpg', '104Grey_4.jpg', '104Navy_1.jpg', '104Navy_2.jpg', '104Navy_3.jpg', '104Navy_4.jpg', '104Pink_1.jpg', '104Pink_2.jpg', '104Pink_3.jpg', '104Pink_4.jpg', '106Black_1.jpg', '106Black_2.jpg', '106Green_1.jpg', '106Green_2.jpg', '106Grey_1.jpg', '106Grey_2.jpg', '106Navy_1.jpg', '106Navy_2.jpg', '106Pink_1.jpg', '106Pink_2.jpg', '107Black_1.jpg', '107Black_2.jpg', '107Cream_1.jpg', '107Cream_2.jpg', '107Green_1.jpg', '107Green_2.jpg', '107Grey_1.jpg', '107Grey_2.jpg', '107Navy_1.jpg', '107Navy_2.jpg', '107Pink_1.jpg', '107Pink_2.jpg', '109Fur_1.jpg', '109Fur_2.jpg', '109Fur_3.jpg', '109Fur_4.jpg', '109Fur_5.jpg', '110Fur_1.jpg', '110Fur_2.jpg', '110Fur_3.jpg', '111Green_1.jpg', '111Green_2.jpg', '111Green_3.jpg', '111Navy_1.jpg', '111Navy_2.jpg', '111Navy_3.jpg', '111Pink_1.jpg', '111Pink_2.jpg', '111Pink_3.jpg', '112Black_1.jpg', '112Black_2.jpg', '112Black_3.jpg', '112Black_4.jpg', '112Cream_1.jpg', '112Cream_2.jpg', '112Cream_3.jpg', '112Cream_4.jpg', '112Green_1.jpg', '112Green_2.jpg', '112Green_3.jpg', '112Green_4.jpg', '112Grey_1.jpg', '112Grey_2.jpg', '112Grey_3.jpg', '112Grey_4.jpg', '112Navy_1.jpg', '112Navy_2.jpg', '112Navy_3.jpg', '112Navy_4.jpg', '112Pink_1.jpg', '112Pink_2.jpg', '112Pink_3.jpg', '112Pink_4.jpg', '121Black_1.jpg', '121Black_2.jpg', '121Cream_1.jpg', '121Cream_2.jpg', '121Green_1.jpg', '121Green_2.jpg', '121Grey_1.jpg', '121Grey_2.jpg', '121Navy_1.jpg', '121Navy_2.jpg', '121Pink_1.jpg', '121Pink_2.jpg', '121SkyBlu_1.jpg', '121SkyBlu_2.jpg', '122Black_1.jpg', '122Black_2.jpg', '122Cream_1.jpg', '122Cream_2.jpg', '122Green_1.jpg', '122Green_2.jpg', '122Grey_1.jpg', '122Grey_2.jpg', '122Navy_1.jpg', '122Navy_2.jpg', '122Pink_1.jpg', '122Pink_2.jpg', '122SkyBlu_1.jpg', '122SkyBlu_2.jpg', '123Black_1.jpg', '123Black_2.jpg', '123Cream_1.jpg', '123Cream_2.jpg', '123Green_1.jpg', '123Green_2.jpg', '123Grey_1.jpg', '123Grey_2.jpg', '123Navy_1.jpg', '123Navy_2.jpg', '123Pink_1.jpg', '123Pink_2.jpg', '123SkyBlu_1.jpg', '123SkyBlu_2.jpg', '125Cream_1.jpg', '125Cream_2.jpg', '125Grey_1.jpg', '125Grey_2.jpg', '125Navy_1.jpg', '125Navy_2.jpg', '125Pink_1.jpg', '125Pink_2.jpg', '126Black_1.jpg', '126Black_2.jpg', '126Black_3.jpg', '126Cream_1.jpg', '126Cream_2.jpg', '126Cream_3.jpg', '126Green_1.jpg', '126Green_2.jpg', '126Green_3.jpg', '126Grey_1.jpg', '126Grey_2.jpg', '126Grey_3.jpg', '126Navy_1.jpg', '126Navy_2.jpg', '126Navy_3.jpg', '126Pink_1.jpg', '126Pink_2.jpg', '126Pink_3.jpg', '126SkyBlu_1.jpg', '126SkyBlu_2.jpg', '127Black_1.jpg', '127Black_2.jpg', '127Cream_1.jpg', '127Cream_2.jpg', '127Green_1.jpg', '127Green_2.jpg', '127Grey_1.jpg', '127Grey_2.jpg', '127Navy_1.jpg', '127Navy_2.jpg', '127Pink_1.jpg', '127Pink_2.jpg', '128Black_1.jpg', '128Black_2.jpg', '128Grey_1.jpg', '128Grey_2.jpg', '128Navy_1.jpg', '128Navy_2.jpg', '129Grey_1.jpg', '129Grey_2.jpg', '129White_1.jpg', '129White_2.jpg', '130Green_1.jpg', '130Green_2.jpg', '130Grey_1.jpg', '130Grey_2.jpg', '130Navy_1.jpg', '130Navy_2.jpg', '130Pink_1.jpg', '130Pink_2.jpg', '131Black_1.jpg', '131Black_2.jpg', '131Cream_1.jpg', '131Cream_2.jpg', '131Green_1.jpg', '131Green_2.jpg', '131Grey_1.jpg', '131Grey_2.jpg', '131Navy_1.jpg', '131Navy_2.jpg', '131Pink_1.jpg', '131Pink_2.jpg', '132Black_1.jpg', '132Black_2.jpg', '132Cream_1.jpg', '132Cream_2.jpg', '132Green_1.jpg', '132Green_2.jpg', '132Grey_1.jpg', '132Grey_2.jpg', '132Navy_1.jpg', '132Navy_2.jpg', '132Pink_1.jpg', '132Pink_2.jpg', '133Black_1.jpg', '133Black_2.jpg', '133Grey_1.jpg', '133Grey_2.jpg', '133Navy_1.jpg', '133Navy_2.jpg', '134Black_1.jpg', '134Black_2.jpg', '134Cream_1.jpg', '134Cream_2.jpg', '134Green_1.jpg', '134Green_2.jpg', '134Grey_1.jpg', '134Grey_2.jpg', '134Navy_1.jpg', '134Navy_2.jpg', '134Pink_1.jpg', '134Pink_2.jpg', '135Black_1.jpg', '135Black_2.jpg', '135Grey_1.jpg', '135Grey_2.jpg', '135Navy_1.jpg', '135Navy_2.jpg', '136Black_1.jpg', '136Black_2.jpg', '136Cream_1.jpg', '136Cream_2.jpg', '136Green_1.jpg', '136Green_2.jpg', '136Grey_1.jpg', '136Grey_2.jpg', '136Navy_1.jpg', '136Navy_2.jpg', '136Pink_1.jpg', '136Pink_2.jpg', '136SkyBlu_1.jpg', '136SkyBlu_2.jpg', '137Black_1.jpg', '137Black_2.jpg', '137Cream_1.jpg', '137Cream_2.jpg', '137Green_1.jpg', '137Green_2.jpg', '137Grey_1.jpg', '137Grey_2.jpg', '137Navy_1.jpg', '137Navy_2.jpg', '137Pink_1.jpg', '137Pink_2.jpg', '137SkyBlu_1.jpg', '137SkyBlu_2.jpg', '138Black_1.jpg', '138Black_2.jpg', '138Green_1.jpg', '138Green_2.jpg', '138Grey_1.jpg', '138Grey_2.jpg', '138Navy_1.jpg', '138Navy_2.jpg', '138Pink_1.jpg', '138Pink_2.jpg', '142Green_1.jpg', '142Green_2.jpg', '142Grey_1.jpg', '142Grey_2.jpg', '142Navy_1.jpg', '142Navy_2.jpg', '142Pink_1.jpg', '142Pink_2.jpg', '143Black_1.jpg', '143Black_2.jpg', '143Cream_1.jpg', '143Cream_2.jpg', '143Green_1.jpg', '143Green_2.jpg', '143Grey_1.jpg', '143Grey_2.jpg', '143Navy_1.jpg', '143Navy_2.jpg', '143Pink_1.jpg', '143Pink_2.jpg', '144Black_1.jpg', '144Black_2.jpg', '144Black_3.jpg', '144Black_4.jpg', '144Black_5.jpg', '144Black_6.jpg', '144Green_1.jpg', '144Green_2.jpg', '144Green_3.jpg', '144Green_4.jpg', '144Green_5.jpg', '144Green_6.jpg', '144Grey_1.jpg', '144Grey_2.jpg', '144Grey_3.jpg', '144Grey_4.jpg', '144Grey_5.jpg', '144Grey_6.jpg', '144Navy_1.jpg', '144Navy_2.jpg', '144Navy_3.jpg', '144Navy_4.jpg', '144Navy_5.jpg', '144Navy_6.jpg', '144Pink_1.jpg', '144Pink_2.jpg', '144Pink_3.jpg', '144Pink_4.jpg', '144Pink_5.jpg', '144Pink_6.jpg', '145Black_1.jpg', '145Black_2.jpg', '145Cream_1.jpg', '145Cream_2.jpg', '145Green_1.jpg', '145Green_2.jpg', '145Grey_1.jpg', '145Grey_2.jpg', '145Navy_1.jpg', '145Navy_2.jpg', '145Pink_1.jpg', '145Pink_2.jpg', '146Black_1.jpg', '146Black_2.jpg', '146Green_1.jpg', '146Green_2.jpg', '146Grey_1.jpg', '146Grey_2.jpg', '146Navy_1.jpg', '146Navy_2.jpg', '146Pink_1.jpg', '146Pink_2.jpg', '147Black_1.jpg', '147Black_2.jpg', '147Green_1.jpg', '147Green_2.jpg', '147Grey_1.jpg', '147Grey_2.jpg', '147Navy_1.jpg', '147Navy_2.jpg', '147Pink_1.jpg', '147Pink_2.jpg', '161Black_1.jpg', '161Black_2.jpg', '161Black_3.jpg', '161Black_4.jpg', '161Black_5.jpg', '161Black_6.jpg', '161Black_7.jpg', '161Black_8.jpg', '161Cream_1.jpg', '161Cream_10.jpg', '161Cream_2.jpg', '161Cream_3.jpg', '161Cream_4.jpg', '161Cream_5.jpg', '161Cream_6.jpg', '161Cream_7.jpg', '161Cream_8.jpg', '161Cream_9.jpg', '161Grey_1.jpg', '161Grey_10.jpg', '161Grey_2.jpg', '161Grey_3.jpg', '161Grey_4.jpg', '161Grey_5.jpg', '161Grey_6.jpg', '161Grey_7.jpg', '161Grey_8.jpg', '161Grey_9.jpg', '161Navy_1.jpg', '161Navy_10.jpg', '161Navy_2.jpg', '161Navy_3.jpg', '161Navy_4.jpg', '161Navy_5.jpg', '161Navy_6.jpg', '161Navy_7.jpg', '161Navy_8.jpg', '161Navy_9.jpg', '161Pink_1.jpg', '161Pink_10.jpg', '161Pink_2.jpg', '161Pink_3.jpg', '161Pink_4.jpg', '161Pink_5.jpg', '161Pink_6.jpg', '161Pink_7.jpg', '161Pink_8.jpg', '161Pink_9.jpg', '162Black_1.jpg', '162Black_10.jpg', '162Black_2.jpg', '162Black_3.jpg', '162Black_4.jpg', '162Black_5.jpg', '162Black_6.jpg', '162Black_7.jpg', '162Black_8.jpg', '162Black_9.jpg', '162Grey_1.jpg', '162Grey_2.jpg', '162Grey_3.jpg', '162Grey_4.jpg', '162Grey_5.jpg', '162Grey_6.jpg', '162Grey_7.jpg', '162Grey_8.jpg', '162Navy_1.jpg', '162Navy_10.jpg', '162Navy_2.jpg', '162Navy_3.jpg', '162Navy_4.jpg', '162Navy_5.jpg', '162Navy_6.jpg', '162Navy_7.jpg', '162Navy_8.jpg', '162Navy_9.jpg', '163Black_1.jpg', '163Black_10.jpg', '163Black_2.jpg', '163Black_3.jpg', '163Black_4.jpg', '163Black_5.jpg', '163Black_6.jpg', '163Black_7.jpg', '163Black_8.jpg', '163Black_9.jpg', '163Cream_1.jpg', '163Cream_10.jpg', '163Cream_2.jpg', '163Cream_3.jpg', '163Cream_4.jpg', '163Cream_5.jpg', '163Cream_6.jpg', '163Cream_7.jpg', '163Cream_8.jpg', '163Cream_9.jpg', '163Grey_1.jpg', '163Grey_10.jpg', '163Grey_2.jpg', '163Grey_3.jpg', '163Grey_4.jpg', '163Grey_5.jpg', '163Grey_6.jpg', '163Grey_7.jpg', '163Grey_8.jpg', '163Grey_9.jpg', '163Navy_1.jpg', '163Navy_2.jpg', '163Navy_3.jpg', '163Navy_4.jpg', '163Navy_5.jpg', '163Navy_6.jpg', '163Navy_7.jpg', '163Navy_8.jpg', '163Pink_1.jpg', '163Pink_10.jpg', '163Pink_2.jpg', '163Pink_3.jpg', '163Pink_4.jpg', '163Pink_5.jpg', '163Pink_6.jpg', '163Pink_7.jpg', '163Pink_8.jpg', '163Pink_9.jpg', '164Black_1.jpg', '164Black_10.jpg', '164Black_2.jpg', '164Black_3.jpg', '164Black_4.jpg', '164Black_5.jpg', '164Black_6.jpg', '164Black_7.jpg', '164Black_8.jpg', '164Black_9.jpg', '164Grey_1.jpg', '164Grey_10.jpg', '164Grey_2.jpg', '164Grey_3.jpg', '164Grey_4.jpg', '164Grey_5.jpg', '164Grey_6.jpg', '164Grey_7.jpg', '164Grey_8.jpg', '164Grey_9.jpg', '164Navy_1.jpg', '164Navy_2.jpg', '164Navy_3.jpg', '164Navy_4.jpg', '164Navy_5.jpg']\n"
     ]
    }
   ],
   "source": [
    "# print(os.listdir())"
   ]
  },
  {
   "cell_type": "code",
   "execution_count": 15,
   "metadata": {},
   "outputs": [
    {
     "name": "stdout",
     "output_type": "stream",
     "text": [
      "Unoptimized images : ['104Black_1.jpg', '104Black_2.jpg', '104Black_3.jpg', '104Black_4.jpg', '104Cream_1.jpg', '104Cream_2.jpg', '104Cream_3.jpg', '104Cream_4.jpg', '104Grey_1.jpg', '104Grey_2.jpg', '104Grey_3.jpg', '104Grey_4.jpg', '104Navy_1.jpg', '104Navy_2.jpg', '104Navy_3.jpg', '104Navy_4.jpg', '104Pink_1.jpg', '104Pink_2.jpg', '104Pink_3.jpg', '104Pink_4.jpg', '106Black_1.jpg', '106Black_2.jpg', '106Green_1.jpg', '106Green_2.jpg', '106Grey_1.jpg', '106Grey_2.jpg', '106Navy_1.jpg', '106Navy_2.jpg', '106Pink_1.jpg', '106Pink_2.jpg', '107Black_1.jpg', '107Black_2.jpg', '107Cream_1.jpg', '107Cream_2.jpg', '107Green_1.jpg', '107Green_2.jpg', '107Grey_1.jpg', '107Grey_2.jpg', '107Navy_1.jpg', '107Navy_2.jpg', '107Pink_1.jpg', '107Pink_2.jpg', '109Fur_1.jpg', '109Fur_2.jpg', '109Fur_3.jpg', '109Fur_4.jpg', '109Fur_5.jpg', '110Fur_1.jpg', '110Fur_2.jpg', '110Fur_3.jpg', '111Green_1.jpg', '111Green_2.jpg', '111Green_3.jpg', '111Navy_1.jpg', '111Navy_2.jpg', '111Navy_3.jpg', '111Pink_1.jpg', '111Pink_2.jpg', '111Pink_3.jpg', '112Black_1.jpg', '112Black_2.jpg', '112Black_3.jpg', '112Black_4.jpg', '112Cream_1.jpg', '112Cream_2.jpg', '112Cream_3.jpg', '112Cream_4.jpg', '112Green_1.jpg', '112Green_2.jpg', '112Green_3.jpg', '112Green_4.jpg', '112Grey_1.jpg', '112Grey_2.jpg', '112Grey_3.jpg', '112Grey_4.jpg', '112Navy_1.jpg', '112Navy_2.jpg', '112Navy_3.jpg', '112Navy_4.jpg', '112Pink_1.jpg', '112Pink_2.jpg', '112Pink_3.jpg', '112Pink_4.jpg', '121Black_1.jpg', '121Black_2.jpg', '121Cream_1.jpg', '121Cream_2.jpg', '121Green_1.jpg', '121Green_2.jpg', '121Grey_1.jpg', '121Grey_2.jpg', '121Navy_1.jpg', '121Navy_2.jpg', '121Pink_1.jpg', '121Pink_2.jpg', '121SkyBlu_1.jpg', '121SkyBlu_2.jpg', '122Black_1.jpg', '122Black_2.jpg', '122Cream_1.jpg', '122Cream_2.jpg', '122Green_1.jpg', '122Green_2.jpg', '122Grey_1.jpg', '122Grey_2.jpg', '122Navy_1.jpg', '122Navy_2.jpg', '122Pink_1.jpg', '122Pink_2.jpg', '122SkyBlu_1.jpg', '122SkyBlu_2.jpg', '123Black_1.jpg', '123Black_2.jpg', '123Cream_1.jpg', '123Cream_2.jpg', '123Green_1.jpg', '123Green_2.jpg', '123Grey_1.jpg', '123Grey_2.jpg', '123Navy_1.jpg', '123Navy_2.jpg', '123Pink_1.jpg', '123Pink_2.jpg', '123SkyBlu_1.jpg', '123SkyBlu_2.jpg', '125Cream_1.jpg', '125Cream_2.jpg', '125Grey_1.jpg', '125Grey_2.jpg', '125Navy_1.jpg', '125Navy_2.jpg', '125Pink_1.jpg', '125Pink_2.jpg', '126Black_1.jpg', '126Black_2.jpg', '126Black_3.jpg', '126Cream_1.jpg', '126Cream_2.jpg', '126Cream_3.jpg', '126Green_1.jpg', '126Green_2.jpg', '126Green_3.jpg', '126Grey_1.jpg', '126Grey_2.jpg', '126Grey_3.jpg', '126Navy_1.jpg', '126Navy_2.jpg', '126Navy_3.jpg', '126Pink_1.jpg', '126Pink_2.jpg', '126Pink_3.jpg', '126SkyBlu_1.jpg', '126SkyBlu_2.jpg', '127Black_1.jpg', '127Black_2.jpg', '127Cream_1.jpg', '127Cream_2.jpg', '127Green_1.jpg', '127Green_2.jpg', '127Grey_1.jpg', '127Grey_2.jpg', '127Navy_1.jpg', '127Navy_2.jpg', '127Pink_1.jpg', '127Pink_2.jpg', '128Black_1.jpg', '128Black_2.jpg', '128Grey_1.jpg', '128Grey_2.jpg', '128Navy_1.jpg', '128Navy_2.jpg', '129Grey_1.jpg', '129Grey_2.jpg', '129White_1.jpg', '129White_2.jpg', '130Green_1.jpg', '130Green_2.jpg', '130Grey_1.jpg', '130Grey_2.jpg', '130Navy_1.jpg', '130Navy_2.jpg', '130Pink_1.jpg', '130Pink_2.jpg', '131Black_1.jpg', '131Black_2.jpg', '131Cream_1.jpg', '131Cream_2.jpg', '131Green_1.jpg', '131Green_2.jpg', '131Grey_1.jpg', '131Grey_2.jpg', '131Navy_1.jpg', '131Navy_2.jpg', '131Pink_1.jpg', '131Pink_2.jpg', '132Black_1.jpg', '132Black_2.jpg', '132Cream_1.jpg', '132Cream_2.jpg', '132Green_1.jpg', '132Green_2.jpg', '132Grey_1.jpg', '132Grey_2.jpg', '132Navy_1.jpg', '132Navy_2.jpg', '132Pink_1.jpg', '132Pink_2.jpg', '133Black_1.jpg', '133Black_2.jpg', '133Grey_1.jpg', '133Grey_2.jpg', '133Navy_1.jpg', '133Navy_2.jpg', '134Black_1.jpg', '134Black_2.jpg', '134Cream_1.jpg', '134Cream_2.jpg', '134Green_1.jpg', '134Green_2.jpg', '134Grey_1.jpg', '134Grey_2.jpg', '134Navy_1.jpg', '134Navy_2.jpg', '134Pink_1.jpg', '134Pink_2.jpg', '135Black_1.jpg', '135Black_2.jpg', '135Grey_1.jpg', '135Grey_2.jpg', '135Navy_1.jpg', '135Navy_2.jpg', '136Black_1.jpg', '136Black_2.jpg', '136Cream_1.jpg', '136Cream_2.jpg', '136Green_1.jpg', '136Green_2.jpg', '136Grey_1.jpg', '136Grey_2.jpg', '136Navy_1.jpg', '136Navy_2.jpg', '136Pink_1.jpg', '136Pink_2.jpg', '136SkyBlu_1.jpg', '136SkyBlu_2.jpg', '137Black_1.jpg', '137Black_2.jpg', '137Cream_1.jpg', '137Cream_2.jpg', '137Green_1.jpg', '137Green_2.jpg', '137Grey_1.jpg', '137Grey_2.jpg', '137Navy_1.jpg', '137Navy_2.jpg', '137Pink_1.jpg', '137Pink_2.jpg', '137SkyBlu_1.jpg', '137SkyBlu_2.jpg', '138Black_1.jpg', '138Black_2.jpg', '138Green_1.jpg', '138Green_2.jpg', '138Grey_1.jpg', '138Grey_2.jpg', '138Navy_1.jpg', '138Navy_2.jpg', '138Pink_1.jpg', '138Pink_2.jpg', '142Green_1.jpg', '142Green_2.jpg', '142Grey_1.jpg', '142Grey_2.jpg', '142Navy_1.jpg', '142Navy_2.jpg', '142Pink_1.jpg', '142Pink_2.jpg', '143Black_1.jpg', '143Black_2.jpg', '143Cream_1.jpg', '143Cream_2.jpg', '143Green_1.jpg', '143Green_2.jpg', '143Grey_1.jpg', '143Grey_2.jpg', '143Navy_1.jpg', '143Navy_2.jpg', '143Pink_1.jpg', '143Pink_2.jpg', '144Black_1.jpg', '144Black_2.jpg', '144Black_3.jpg', '144Black_4.jpg', '144Black_5.jpg', '144Black_6.jpg', '144Green_1.jpg', '144Green_2.jpg', '144Green_3.jpg', '144Green_4.jpg', '144Green_5.jpg', '144Green_6.jpg', '144Grey_1.jpg', '144Grey_2.jpg', '144Grey_3.jpg', '144Grey_4.jpg', '144Grey_5.jpg', '144Grey_6.jpg', '144Navy_1.jpg', '144Navy_2.jpg', '144Navy_3.jpg', '144Navy_4.jpg', '144Navy_5.jpg', '144Navy_6.jpg', '144Pink_1.jpg', '144Pink_2.jpg', '144Pink_3.jpg', '144Pink_4.jpg', '144Pink_5.jpg', '144Pink_6.jpg', '145Black_1.jpg', '145Black_2.jpg', '145Cream_1.jpg', '145Cream_2.jpg', '145Green_1.jpg', '145Green_2.jpg', '145Grey_1.jpg', '145Grey_2.jpg', '145Navy_1.jpg', '145Navy_2.jpg', '145Pink_1.jpg', '145Pink_2.jpg', '146Black_1.jpg', '146Black_2.jpg', '146Green_1.jpg', '146Green_2.jpg', '146Grey_1.jpg', '146Grey_2.jpg', '146Navy_1.jpg', '146Navy_2.jpg', '146Pink_1.jpg', '146Pink_2.jpg', '147Black_1.jpg', '147Black_2.jpg', '147Green_1.jpg', '147Green_2.jpg', '147Grey_1.jpg', '147Grey_2.jpg', '147Navy_1.jpg', '147Navy_2.jpg', '147Pink_1.jpg', '147Pink_2.jpg', '161Black_1.jpg', '161Black_2.jpg', '161Black_3.jpg', '161Black_4.jpg', '161Black_5.jpg', '161Black_6.jpg', '161Black_7.jpg', '161Black_8.jpg', '161Cream_1.jpg', '161Cream_10.jpg', '161Cream_2.jpg', '161Cream_3.jpg', '161Cream_4.jpg', '161Cream_5.jpg', '161Cream_6.jpg', '161Cream_7.jpg', '161Cream_8.jpg', '161Cream_9.jpg', '161Grey_1.jpg', '161Grey_10.jpg', '161Grey_2.jpg', '161Grey_3.jpg', '161Grey_4.jpg', '161Grey_5.jpg', '161Grey_6.jpg', '161Grey_7.jpg', '161Grey_8.jpg', '161Grey_9.jpg', '161Navy_1.jpg', '161Navy_10.jpg', '161Navy_2.jpg', '161Navy_3.jpg', '161Navy_4.jpg', '161Navy_5.jpg', '161Navy_6.jpg', '161Navy_7.jpg', '161Navy_8.jpg', '161Navy_9.jpg', '161Pink_1.jpg', '161Pink_10.jpg', '161Pink_2.jpg', '161Pink_3.jpg', '161Pink_4.jpg', '161Pink_5.jpg', '161Pink_6.jpg', '161Pink_7.jpg', '161Pink_8.jpg', '161Pink_9.jpg', '162Black_1.jpg', '162Black_10.jpg', '162Black_2.jpg', '162Black_3.jpg', '162Black_4.jpg', '162Black_5.jpg', '162Black_6.jpg', '162Black_7.jpg', '162Black_8.jpg', '162Black_9.jpg', '162Grey_1.jpg', '162Grey_2.jpg', '162Grey_3.jpg', '162Grey_4.jpg', '162Grey_5.jpg', '162Grey_6.jpg', '162Grey_7.jpg', '162Grey_8.jpg', '162Navy_1.jpg', '162Navy_10.jpg', '162Navy_2.jpg', '162Navy_3.jpg', '162Navy_4.jpg', '162Navy_5.jpg', '162Navy_6.jpg', '162Navy_7.jpg', '162Navy_8.jpg', '162Navy_9.jpg', '163Black_1.jpg', '163Black_10.jpg', '163Black_2.jpg', '163Black_3.jpg', '163Black_4.jpg', '163Black_5.jpg', '163Black_6.jpg', '163Black_7.jpg', '163Black_8.jpg', '163Black_9.jpg', '163Cream_1.jpg', '163Cream_10.jpg', '163Cream_2.jpg', '163Cream_3.jpg', '163Cream_4.jpg', '163Cream_5.jpg', '163Cream_6.jpg', '163Cream_7.jpg', '163Cream_8.jpg', '163Cream_9.jpg', '163Grey_1.jpg', '163Grey_10.jpg', '163Grey_2.jpg', '163Grey_3.jpg', '163Grey_4.jpg', '163Grey_5.jpg', '163Grey_6.jpg', '163Grey_7.jpg', '163Grey_8.jpg', '163Grey_9.jpg', '163Navy_1.jpg', '163Navy_2.jpg', '163Navy_3.jpg', '163Navy_4.jpg', '163Navy_5.jpg', '163Navy_6.jpg', '163Navy_7.jpg', '163Navy_8.jpg', '163Pink_1.jpg', '163Pink_10.jpg', '163Pink_2.jpg', '163Pink_3.jpg', '163Pink_4.jpg', '163Pink_5.jpg', '163Pink_6.jpg', '163Pink_7.jpg', '163Pink_8.jpg', '163Pink_9.jpg', '164Black_1.jpg', '164Black_10.jpg', '164Black_2.jpg', '164Black_3.jpg', '164Black_4.jpg', '164Black_5.jpg', '164Black_6.jpg', '164Black_7.jpg', '164Black_8.jpg', '164Black_9.jpg', '164Grey_1.jpg', '164Grey_10.jpg', '164Grey_2.jpg', '164Grey_3.jpg', '164Grey_4.jpg', '164Grey_5.jpg', '164Grey_6.jpg', '164Grey_7.jpg', '164Grey_8.jpg', '164Grey_9.jpg', '164Navy_1.jpg', '164Navy_2.jpg', '164Navy_3.jpg', '164Navy_4.jpg', '164Navy_5.jpg']\n"
     ]
    }
   ],
   "source": [
    "unopt_images = [file for file in os.listdir() if file.endswith(('jpg', 'jpeg'))]\n",
    "print(f'Unoptimized images : {unopt_images}')"
   ]
  },
  {
   "cell_type": "code",
   "execution_count": 16,
   "metadata": {},
   "outputs": [],
   "source": [
    "for image in unopt_images:\n",
    "    img = Image.open(image)\n",
    "    img.save(\"Compressed_\" + image, optimize=True, quality=60)"
   ]
  },
  {
   "cell_type": "code",
   "execution_count": null,
   "metadata": {},
   "outputs": [],
   "source": []
  }
 ],
 "metadata": {
  "kernelspec": {
   "display_name": "Python 3",
   "language": "python",
   "name": "python3"
  },
  "language_info": {
   "codemirror_mode": {
    "name": "ipython",
    "version": 3
   },
   "file_extension": ".py",
   "mimetype": "text/x-python",
   "name": "python",
   "nbconvert_exporter": "python",
   "pygments_lexer": "ipython3",
   "version": "3.7.4"
  }
 },
 "nbformat": 4,
 "nbformat_minor": 2
}
